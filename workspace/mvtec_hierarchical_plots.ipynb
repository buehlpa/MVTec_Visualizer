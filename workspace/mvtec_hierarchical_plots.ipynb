{
 "cells": [
  {
   "cell_type": "code",
   "execution_count": 34,
   "metadata": {},
   "outputs": [
    {
     "name": "stdout",
     "output_type": "stream",
     "text": [
      "    main_category subcategory   item  count  \\\n",
      "0                  transistor   test     10   \n",
      "1                  transistor   test     10   \n",
      "2                  transistor   test     60   \n",
      "3                  transistor   test     10   \n",
      "4                  transistor   test     10   \n",
      "..            ...         ...    ...    ...   \n",
      "98                     bottle   test     20   \n",
      "99                     bottle   test     21   \n",
      "100                    bottle   test     20   \n",
      "101                    bottle   test     22   \n",
      "102                    bottle  train    209   \n",
      "\n",
      "                                              image_id  \n",
      "0    /home/bule/projects/MVTec_Visualizer/data/mvte...  \n",
      "1    /home/bule/projects/MVTec_Visualizer/data/mvte...  \n",
      "2    /home/bule/projects/MVTec_Visualizer/data/mvte...  \n",
      "3    /home/bule/projects/MVTec_Visualizer/data/mvte...  \n",
      "4    /home/bule/projects/MVTec_Visualizer/data/mvte...  \n",
      "..                                                 ...  \n",
      "98   /home/bule/projects/MVTec_Visualizer/data/mvte...  \n",
      "99   /home/bule/projects/MVTec_Visualizer/data/mvte...  \n",
      "100  /home/bule/projects/MVTec_Visualizer/data/mvte...  \n",
      "101  /home/bule/projects/MVTec_Visualizer/data/mvte...  \n",
      "102  /home/bule/projects/MVTec_Visualizer/data/mvte...  \n",
      "\n",
      "[103 rows x 5 columns]\n"
     ]
    }
   ],
   "source": [
    "import os\n",
    "import pandas as pd\n",
    "import plotly.express as px\n",
    "\n",
    "\n",
    "base_path= \"/home/bule/projects/MVTec_Visualizer/data/mvtec_anomaly_detection\"\n",
    "\n",
    "\n",
    "parsed_data=[]\n",
    "for root, dirs, files in os.walk(base_path):\n",
    "    if root == base_path:\n",
    "        continue\n",
    "    if 'ground_truth' in root:\n",
    "        continue \n",
    "    images = [f for f in files if f.endswith('.png')]\n",
    "    if len(images) == 0:\n",
    "        continue\n",
    "    path=root[len(base_path):]\n",
    "    path_parts = path.split('/')\n",
    "    entry = {'main_category': path_parts[0],'subcategory': path_parts[1],'item': path_parts[2],'count': len(images),\"image_id\": base_path+files[0]}\n",
    "    \n",
    "    parsed_data.append(entry)\n",
    "df = pd.DataFrame(parsed_data)\n",
    "print(df)\n"
   ]
  },
  {
   "cell_type": "code",
   "execution_count": 33,
   "metadata": {},
   "outputs": [],
   "source": [
    "# Creating sunburst chart\n",
    "fig = px.sunburst(df, path=['main_category', 'subcategory', 'item'], values='count')\n",
    "fig.write_html('complex_sunburst_plot.html', auto_open=True)"
   ]
  },
  {
   "cell_type": "code",
   "execution_count": 22,
   "metadata": {},
   "outputs": [],
   "source": [
    "# treemap\n",
    "fig = px.treemap(df, path=['main_category', 'subcategory', 'item'], values='count')\n",
    "fig.write_html('treemap_plot.html', auto_open=True)\n"
   ]
  },
  {
   "cell_type": "code",
   "execution_count": 37,
   "metadata": {},
   "outputs": [],
   "source": [
    "import plotly.express as px\n",
    "import pandas as pd\n",
    "\n",
    "\n",
    "\n",
    "import base64\n",
    "\n",
    "# Function to convert image to base64 string\n",
    "def img_to_base64(path):\n",
    "    with open(path, \"rb\") as img_file:\n",
    "        return base64.b64encode(img_file.read()).decode('utf-8')\n",
    "\n",
    "# Replace 'path/to/image.jpg' with the actual image path\n",
    "encoded_img = img_to_base64('/home/bule/projects/MVTec_Visualizer/data/mvtec_anomaly_detection/bottle/test/broken_large/000.png')\n",
    "\n",
    "# Use in hover_data\n",
    "df['custom_hover_data'] = '<img src=\"data:image/jpeg;base64,' + encoded_img + '\">'\n",
    "\n",
    "\n",
    "\n",
    "\n",
    "# Create the treemap\n",
    "fig = px.treemap(df, path=['main_category', 'subcategory', 'item'], values='count', hover_data=['custom_hover_data'])\n",
    "\n",
    "# Modify the hovertemplate to include the custom hover data\n",
    "fig.update_traces(hovertemplate='%{customdata[0]}')\n",
    "\n",
    "# Export to HTML\n",
    "fig.write_html('treemap_with_images.html', auto_open=True)\n"
   ]
  }
 ],
 "metadata": {
  "kernelspec": {
   "display_name": "clip",
   "language": "python",
   "name": "python3"
  },
  "language_info": {
   "codemirror_mode": {
    "name": "ipython",
    "version": 3
   },
   "file_extension": ".py",
   "mimetype": "text/x-python",
   "name": "python",
   "nbconvert_exporter": "python",
   "pygments_lexer": "ipython3",
   "version": "3.9.18"
  }
 },
 "nbformat": 4,
 "nbformat_minor": 2
}
