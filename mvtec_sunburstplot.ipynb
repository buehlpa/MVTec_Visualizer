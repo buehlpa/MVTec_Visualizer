{
 "cells": [
  {
   "cell_type": "code",
   "execution_count": null,
   "metadata": {},
   "outputs": [],
   "source": [
    "import os\n",
    "\n",
    "def count_files_in_directories(base_path):\n",
    "    data = {}\n",
    "    # Walk through the directory structure\n",
    "    for root, dirs, files in os.walk(base_path):\n",
    "        # Check if this is a 'leaf' directory (with no subdirectories)\n",
    "        if not dirs:\n",
    "            category = os.path.basename(os.path.dirname(root))\n",
    "            subcategory = os.path.basename(root)\n",
    "            file_count = len(files)\n",
    "\n",
    "            # Initialize the category in the dictionary if not already present\n",
    "            if category not in data:\n",
    "                data[category] = {}\n",
    "            # Add the subcategory count\n",
    "            data[category][subcategory] = file_count\n",
    "    return data\n",
    "\n",
    "# Replace 'your_directory_path' with the path to your base directory\n",
    "base_path = '/home/bule/projects/MVTec_Visualizer/data'\n",
    "complex_data = count_files_in_directories(base_path)\n",
    "\n",
    "complex_data"
   ]
  },
  {
   "cell_type": "code",
   "execution_count": null,
   "metadata": {},
   "outputs": [],
   "source": [
    "\n",
    "# Transforming data for sunburst chart\n",
    "df = []\n",
    "for main_category, subcats in complex_data.items():\n",
    "    if isinstance(subcats, dict):\n",
    "        for subcat, count in subcats.items():\n",
    "            if isinstance(count, dict):\n",
    "                for item, item_count in count.items():\n",
    "                    df.append({'main_category': main_category, 'subcategory': subcat, 'item': item, 'count': item_count})\n",
    "            else:\n",
    "                df.append({'main_category': main_category, 'subcategory': subcat, 'item': subcat, 'count': count})\n",
    "    else:\n",
    "        df.append({'main_category': main_category, 'subcategory': main_category, 'item': main_category, 'count': subcats})\n",
    "\n",
    "df = pd.DataFrame(df)\n",
    "\n",
    "# Creating sunburst chart\n",
    "fig = px.sunburst(df, path=['main_category', 'subcategory', 'item'], values='count')\n",
    "fig.write_html('complex_sunburst_plot.html', auto_open=True)"
   ]
  }
 ],
 "metadata": {
  "language_info": {
   "name": "python"
  }
 },
 "nbformat": 4,
 "nbformat_minor": 2
}
